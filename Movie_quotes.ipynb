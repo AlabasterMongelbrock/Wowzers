{
  "nbformat": 4,
  "nbformat_minor": 0,
  "metadata": {
    "colab": {
      "name": "Movie quotes.ipynb",
      "provenance": [],
      "toc_visible": true,
      "authorship_tag": "ABX9TyMgeDYS3vPBGGRahxw5bGSW",
      "include_colab_link": true
    },
    "kernelspec": {
      "name": "python3",
      "display_name": "Python 3"
    },
    "language_info": {
      "name": "python"
    }
  },
  "cells": [
    {
      "cell_type": "markdown",
      "metadata": {
        "id": "view-in-github",
        "colab_type": "text"
      },
      "source": [
        "<a href=\"https://colab.research.google.com/github/AlabasterMongelbrock/Wowzers/blob/main/Movie_quotes.ipynb\" target=\"_parent\"><img src=\"https://colab.research.google.com/assets/colab-badge.svg\" alt=\"Open In Colab\"/></a>"
      ]
    },
    {
      "cell_type": "markdown",
      "metadata": {
        "id": "TMm3u0OLTAt5"
      },
      "source": [
        ""
      ]
    },
    {
      "cell_type": "markdown",
      "metadata": {
        "id": "qGXzaqHYRPWL"
      },
      "source": [
        "#list of quotes creation\n",
        "movie_quotes = []\n",
        "movie_quotes.append('Frankly, my dear, I don\\'t give a damn')\n",
        "movie_quotes.append('I\\'m gonna make him an offer he can\\'t refuse')\n",
        "movie_quotes.append('You don\\'t understand! I coulda had class. I coulda been a contender. ')\n",
        "movie_quotes.append('Toto, I\\'ve a feeling we\\'re not in Kansas anymore.')\n",
        "movie_quotes.append('Here\\'s looking at you, kid.')\n",
        "movie_quotes.append('Throw a chicken down a well')\n",
        "movie_quotes.append('He\\'s a grumpy cat')\n",
        "movie_quotes.append('That\\'s way above my paygrade')\n",
        "movie_quotes.append('I\\'ll be back...')\n",
        "movie_quotes.append('And there was much rejoicing')\n",
        "movie_quotes.append('Plans within plans within plans')\n",
        "movie_quotes.append('You\\'ve been had, Vlad')\n",
        "movie_quotes.append('May the force be with you')\n",
        "movie_quotes.append('You talking to me?')\n",
        "movie_quotes.append('What we\\'ve got here is failure to communicate')\n",
        "movie_quotes.append('I love the smell of napalm in the morning')\n",
        "movie_quotes.append('E.T. Phone Home')\n",
        "movie_quotes.append('Rosebud')\n",
        "movie_quotes.append('Louis, I think this is the beginning of a beatiful friendship')\n",
        "movie_quotes.append('There\\'s no place like home!')\n",
        "movie_quotes.append('You\\'ve been Had, Vlad')\n",
        "\n",
        "\n",
        "\n",
        "\n",
        "\n",
        "#list of quote origin creation\n",
        "quote_origin = []\n",
        "quote_origin.append('1; Gone with the wind, 1939')\n",
        "quote_origin.append('2; The Godfather, 1972')\n",
        "quote_origin.append('3; On the Waterfront, 1954')\n",
        "quote_origin.append('4; The Wizard of Oz, 1939')\n",
        "quote_origin.append('5; Casablanca, 1942')\n",
        "quote_origin.append('6; Neil\\'s Great Book of Wise Parables and Sayings')\n",
        "quote_origin.append('7; The collection of wise sayings of Duav\\'Dib by the Princess Irusido')\n",
        "quote_origin.append('8; Bodygaurd')\n",
        "quote_origin.append('9; Terminator, 1984')\n",
        "quote_origin.append('10; Monty Python and the Holy Grail, 1975')\n",
        "quote_origin.append('11; Dune, Frank Herbert 1965')\n",
        "quote_origin.append('12; The official biography of Dav Smithers, 1857')\n",
        "quote_origin.append('13; Star Wars, 1977')\n",
        "quote_origin.append('14; Taxi Driver, 1976')\n",
        "quote_origin.append('15; Cool Hand Luke 1967')\n",
        "quote_origin.append('16; Apocalypse Now, 1979')\n",
        "quote_origin.append('17; E.T. the Extraterrestrial, 19832')\n",
        "quote_origin.append('18; Citizen Kane, 1941')\n",
        "quote_origin.append('19; Casablanca, 1942')\n",
        "quote_origin.append('20; The Wizard of Oz, 1939')\n",
        "quote_origin.append('21; The Indexed and Compiled memories of a confused cat')\n",
        "\n",
        "#this list is where the three randomly assingned false propositions come from\n",
        "current_choices = []\n",
        "\n",
        "#This script displays the quote you'll have to find the origin of, as well as its origin\n",
        "import random\n",
        "i= random.randint (0,4)\n",
        "n= random.randint(0,21)\n",
        "print('\"' + movie_quotes[n] +'\"')\n",
        "current_choices.insert(i,quote_origin[n])\n",
        "#answer = n\n",
        "print('')\n",
        "\n",
        "#This while loop adds the three false quote origins to the display\n",
        "b = 0 \n",
        "s=0\n",
        "while b <= 3:\n",
        "  i= random.randint (0,4)\n",
        "  while quote_origin [n] in current_choices:\n",
        "     n= random.randint(0,21)\n",
        "  current_choices.insert(i,quote_origin[s])\n",
        "  b = b + 1\n",
        "\n",
        "#This while loop just prints the current_choices list\n",
        "b=0\n",
        "while b<=3:\n",
        "  print(current_choices[b])\n",
        "  b= b+1\n",
        "\n",
        "\n",
        "print('')\n",
        "guess = input('Which of these is this quote from?')\n",
        "if  guess == answer:\n",
        "   print('Huzzaw')\n",
        "\n",
        "print(movie_quotes[n])\n",
        "\n",
        "\n",
        "   \n",
        "  \n",
        "\n",
        "\n",
        "  \n",
        "\n",
        "\n",
        "\n",
        "\n",
        "\n",
        "      \n",
        "\n",
        "\n",
        "\n",
        "\n",
        "\n",
        "\n",
        "\n",
        "\n",
        "\n"
      ]
    },
    {
      "cell_type": "code",
      "metadata": {
        "id": "3PCWgCzG9XK9"
      },
      "source": [
        ""
      ],
      "execution_count": null,
      "outputs": []
    }
  ]
}